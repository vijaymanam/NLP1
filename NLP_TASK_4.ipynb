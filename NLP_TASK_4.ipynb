{
  "nbformat": 4,
  "nbformat_minor": 0,
  "metadata": {
    "colab": {
      "provenance": [],
      "authorship_tag": "ABX9TyOQbVlJ2GowhRptUyZYjyd1",
      "include_colab_link": true
    },
    "kernelspec": {
      "name": "python3",
      "display_name": "Python 3"
    },
    "language_info": {
      "name": "python"
    }
  },
  "cells": [
    {
      "cell_type": "markdown",
      "metadata": {
        "id": "view-in-github",
        "colab_type": "text"
      },
      "source": [
        "<a href=\"https://colab.research.google.com/github/vijaymanam/NLP1/blob/main/NLP_TASK_4.ipynb\" target=\"_parent\"><img src=\"https://colab.research.google.com/assets/colab-badge.svg\" alt=\"Open In Colab\"/></a>"
      ]
    },
    {
      "cell_type": "markdown",
      "source": [
        "#TASK 4"
      ],
      "metadata": {
        "id": "mjeaQ6rskyM2"
      }
    },
    {
      "cell_type": "code",
      "execution_count": null,
      "metadata": {
        "colab": {
          "base_uri": "https://localhost:8080/"
        },
        "id": "BUitQcktMYgx",
        "outputId": "f44365fb-137d-4341-b1d3-75a0e70aaa7c"
      },
      "outputs": [
        {
          "output_type": "stream",
          "name": "stderr",
          "text": [
            "[nltk_data] Downloading package punkt to /root/nltk_data...\n",
            "[nltk_data]   Unzipping tokenizers/punkt.zip.\n"
          ]
        },
        {
          "output_type": "stream",
          "name": "stdout",
          "text": [
            "Morphology of the document:\n",
            "natural: 2\n",
            "language: 6\n",
            "processing: 1\n",
            "nlp: 7\n",
            "field: 1\n",
            "artificial: 1\n",
            "intelligence: 1\n",
            "ai: 1\n",
            "focuses: 1\n",
            "interaction: 1\n",
            "computers: 2\n",
            "humans: 1\n",
            "ultimate: 1\n",
            "goal: 1\n",
            "enable: 1\n",
            "understand: 1\n",
            "interpret: 1\n",
            "generate: 2\n",
            "human: 1\n",
            "way: 1\n",
            "valuable: 1\n",
            "involves: 1\n",
            "several: 1\n",
            "tasks: 1\n",
            "including: 1\n",
            "modeling: 1\n",
            "tagging: 1\n",
            "named: 1\n",
            "entity: 1\n",
            "recognition: 1\n",
            "sentiment: 1\n",
            "analysis: 1\n",
            "machine: 1\n",
            "translation: 2\n",
            "one: 1\n",
            "important: 1\n",
            "aspect: 1\n",
            "understanding: 2\n",
            "meaning: 1\n",
            "words: 2\n",
            "context: 2\n",
            "example: 1\n",
            "word: 1\n",
            "bank: 1\n",
            "refer: 1\n",
            "financial: 1\n",
            "institution: 1\n",
            "side: 1\n",
            "river: 1\n",
            "place: 1\n",
            "store: 1\n",
            "information: 1\n",
            "algorithms: 1\n",
            "need: 1\n",
            "able: 1\n",
            "disambiguate: 1\n",
            "based: 1\n",
            "surrounding: 1\n",
            "order: 1\n",
            "meaningful: 1\n",
            "outputs: 1\n",
            "recent: 1\n",
            "years: 1\n",
            "deep: 1\n",
            "learning: 1\n",
            "models: 1\n",
            "transformer: 1\n",
            "architectures: 1\n",
            "bert: 1\n",
            "gpt: 1\n",
            "greatly: 1\n",
            "improved: 1\n",
            "state: 1\n",
            "enabling: 1\n",
            "better: 1\n",
            "generation: 1\n",
            "increasing: 1\n",
            "availability: 1\n",
            "large: 1\n",
            "datasets: 1\n",
            "computational: 1\n",
            "power: 1\n",
            "made: 1\n",
            "significant: 1\n",
            "strides: 1\n",
            "applications: 1\n",
            "chatbots: 1\n",
            "voice: 1\n",
            "assistants: 1\n",
            "systems: 1\n"
          ]
        },
        {
          "output_type": "stream",
          "name": "stderr",
          "text": [
            "[nltk_data] Downloading package stopwords to /root/nltk_data...\n",
            "[nltk_data]   Unzipping corpora/stopwords.zip.\n",
            "[nltk_data] Downloading package punkt_tab to /root/nltk_data...\n",
            "[nltk_data]   Unzipping tokenizers/punkt_tab.zip.\n"
          ]
        }
      ],
      "source": [
        "import nltk\n",
        "from nltk.tokenize import word_tokenize\n",
        "from nltk.corpus import stopwords\n",
        "from nltk.probability import FreqDist\n",
        "\n",
        "nltk.download('punkt')\n",
        "nltk.download('stopwords')\n",
        "nltk.download('punkt_tab')\n",
        "\n",
        "def load_document(file_path):\n",
        "    with open(file_path, 'r', encoding='utf-8') as file:\n",
        "        return file.read()\n",
        "\n",
        "def tokenize_document(document):\n",
        "    tokens = word_tokenize(document)\n",
        "    return [word.lower() for word in tokens if word.isalpha()]\n",
        "\n",
        "def remove_stopwords(tokens):\n",
        "    stop_words = set(stopwords.words('english'))\n",
        "    return [word for word in tokens if word not in stop_words]\n",
        "\n",
        "def find_morphology(tokens):\n",
        "    fdist = FreqDist(tokens)\n",
        "    return fdist\n",
        "\n",
        "document_path = '/content/Task4.txt'\n",
        "\n",
        "document = load_document(document_path)\n",
        "tokens = tokenize_document(document)\n",
        "tokens_without_stopwords = remove_stopwords(tokens)\n",
        "morphology = find_morphology(tokens_without_stopwords)\n",
        "print(\"Morphology of the document:\")\n",
        "for word, frequency in morphology.items():\n",
        "    print(f\"{word}: {frequency}\")"
      ]
    }
  ]
}