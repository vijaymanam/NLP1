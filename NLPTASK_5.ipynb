{
  "nbformat": 4,
  "nbformat_minor": 0,
  "metadata": {
    "colab": {
      "provenance": [],
      "authorship_tag": "ABX9TyNwKqWcRDnryn4qhCfgxyGM",
      "include_colab_link": true
    },
    "kernelspec": {
      "name": "python3",
      "display_name": "Python 3"
    },
    "language_info": {
      "name": "python"
    }
  },
  "cells": [
    {
      "cell_type": "markdown",
      "metadata": {
        "id": "view-in-github",
        "colab_type": "text"
      },
      "source": [
        "<a href=\"https://colab.research.google.com/github/vijaymanam/NLP1/blob/main/NLPTASK_5.ipynb\" target=\"_parent\"><img src=\"https://colab.research.google.com/assets/colab-badge.svg\" alt=\"Open In Colab\"/></a>"
      ]
    },
    {
      "cell_type": "markdown",
      "source": [
        "#TASK 5"
      ],
      "metadata": {
        "id": "XX-onAO7lBDe"
      }
    },
    {
      "cell_type": "code",
      "execution_count": null,
      "metadata": {
        "colab": {
          "base_uri": "https://localhost:8080/"
        },
        "id": "M-R-aMopElbr",
        "outputId": "32c8d8f1-aaec-40d5-d0ec-1483cc7613c4"
      },
      "outputs": [
        {
          "output_type": "stream",
          "name": "stderr",
          "text": [
            "[nltk_data] Downloading package punkt to /root/nltk_data...\n",
            "[nltk_data]   Package punkt is already up-to-date!\n",
            "[nltk_data] Downloading package stopwords to /root/nltk_data...\n",
            "[nltk_data]   Package stopwords is already up-to-date!\n",
            "[nltk_data] Downloading package reuters to /root/nltk_data...\n",
            "[nltk_data]   Package reuters is already up-to-date!\n",
            "[nltk_data] Downloading package punkt_tab to /root/nltk_data...\n",
            "[nltk_data]   Unzipping tokenizers/punkt_tab.zip.\n"
          ]
        },
        {
          "output_type": "stream",
          "name": "stdout",
          "text": [
            "he is\n",
            "he is optimistic\n",
            "he is optimistic the\n",
            "he is optimistic the triton\n",
            "he is optimistic the triton petroleum\n",
            "he is optimistic the triton petroleum ltd\n",
            "he is optimistic the triton petroleum ltd >\n",
            "he is optimistic the triton petroleum ltd > for\n",
            "he is optimistic the triton petroleum ltd > for 20\n",
            "he is optimistic the triton petroleum ltd > for 20 years\n",
            "he is optimistic the triton petroleum ltd > for 20 years on\n",
            "he is optimistic the triton petroleum ltd > for 20 years on the\n",
            "he is optimistic the triton petroleum ltd > for 20 years on the london\n",
            "he is optimistic the triton petroleum ltd > for 20 years on the london interbank\n",
            "he is optimistic the triton petroleum ltd > for 20 years on the london interbank offered\n",
            "he is optimistic the triton petroleum ltd > for 20 years on the london interbank offered rate\n",
            "he is optimistic the triton petroleum ltd > for 20 years on the london interbank offered rate ),\n",
            "he is optimistic the triton petroleum ltd > for 20 years on the london interbank offered rate ), are\n",
            "he is optimistic the triton petroleum ltd > for 20 years on the london interbank offered rate ), are due\n",
            "he is optimistic the triton petroleum ltd > for 20 years on the london interbank offered rate ), are due to\n"
          ]
        }
      ],
      "source": [
        "import string\n",
        "import random\n",
        "import nltk\n",
        "from nltk.corpus import stopwords, reuters\n",
        "from collections import Counter, defaultdict\n",
        "from nltk import FreqDist, ngrams\n",
        "nltk.download('punkt')\n",
        "nltk.download('stopwords')\n",
        "nltk.download('reuters')\n",
        "nltk.download('punkt_tab') # Added to download the missing resource\n",
        "sents = reuters.sents()\n",
        "stop_word = set(stopwords.words('english'))\n",
        "string.punctuation = string.punctuation + ' \" ' + ' \" ' + ' - ' + ' _ '\n",
        "removal_list = list(stop_word) + list(string.punctuation) + ['\\t', 'rt']\n",
        "unigram = []\n",
        "bigram = []\n",
        "trigram = []\n",
        "tokenized_text = []\n",
        "for sentence in sents:\n",
        "    sentence = list(map(lambda x: x.lower(), sentence))\n",
        "    for word in sentence:\n",
        "        if word == '.':\n",
        "            sentence.remove(word)\n",
        "        else:\n",
        "            unigram.append(word)\n",
        "            tokenized_text.append(word)\n",
        "    bigram.extend(list(ngrams(sentence, 2, pad_left=True, pad_right=True)))\n",
        "    trigram.extend(list(ngrams(sentence, 3, pad_left=True, pad_right=True)))\n",
        "def remove_stopwords(x):\n",
        "    y = []\n",
        "    for item in x:\n",
        "        if isinstance(item, tuple): # Check if it's an n-gram\n",
        "            count = 0\n",
        "            for word in item:\n",
        "                if word not in removal_list:\n",
        "                    count = 1\n",
        "                    break\n",
        "            if count == 1:\n",
        "                y.append(item)\n",
        "        else: # Handle individual words (unigrams)\n",
        "            if item not in removal_list:\n",
        "                y.append(item)\n",
        "    return y\n",
        "\n",
        "unigram = remove_stopwords(unigram)\n",
        "bigram = remove_stopwords(bigram)\n",
        "trigram = remove_stopwords(trigram)\n",
        "freq_uni = FreqDist(unigram)\n",
        "freq_bi = FreqDist(bigram)\n",
        "freq_tri = FreqDist(trigram)\n",
        "d = defaultdict(Counter)\n",
        "for a, b, c in freq_tri:\n",
        "    if (a is not None) and (b is not None) and (c is not None):\n",
        "        d[a, b][c] += freq_tri[a, b, c]\n",
        "def pick_word(counter):\n",
        "    \"choose a random element\"\n",
        "    return random.choice(list(counter.elements()))\n",
        "prefix = \"he\", \"is\"\n",
        "print(\" \".join(prefix))\n",
        "s = \" \".join(prefix)\n",
        "for i in range(19):\n",
        "    if prefix in d: # Check if prefix exists in the dictionary\n",
        "        suffix = pick_word(d[prefix])\n",
        "        s = s + ' ' + suffix\n",
        "        print(s)\n",
        "        prefix = prefix[1], suffix\n",
        "    else:\n",
        "        print(f\"Prefix {prefix} not found in dictionary. Stopping text generation.\")\n",
        "        break"
      ]
    }
  ]
}