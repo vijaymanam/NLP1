{
  "nbformat": 4,
  "nbformat_minor": 0,
  "metadata": {
    "colab": {
      "provenance": [],
      "authorship_tag": "ABX9TyNRf7Wv2tmXiHYv7p1kV2+Y",
      "include_colab_link": true
    },
    "kernelspec": {
      "name": "python3",
      "display_name": "Python 3"
    },
    "language_info": {
      "name": "python"
    }
  },
  "cells": [
    {
      "cell_type": "markdown",
      "metadata": {
        "id": "view-in-github",
        "colab_type": "text"
      },
      "source": [
        "<a href=\"https://colab.research.google.com/github/vijaymanam/NLP1/blob/main/NLP_task_2.ipynb\" target=\"_parent\"><img src=\"https://colab.research.google.com/assets/colab-badge.svg\" alt=\"Open In Colab\"/></a>"
      ]
    },
    {
      "cell_type": "markdown",
      "source": [
        "# TASK 2"
      ],
      "metadata": {
        "id": "RF3LX7YgkNiG"
      }
    },
    {
      "cell_type": "code",
      "execution_count": null,
      "metadata": {
        "colab": {
          "base_uri": "https://localhost:8080/"
        },
        "id": "19J9Rcsh_v3z",
        "outputId": "e2bea995-ba57-43d1-91ef-2fb531b9f38f"
      },
      "outputs": [
        {
          "output_type": "stream",
          "name": "stderr",
          "text": [
            "[nltk_data] Downloading package punkt to /root/nltk_data...\n",
            "[nltk_data]   Package punkt is already up-to-date!\n",
            "[nltk_data] Downloading package punkt_tab to /root/nltk_data...\n",
            "[nltk_data]   Package punkt_tab is already up-to-date!\n"
          ]
        },
        {
          "output_type": "stream",
          "name": "stdout",
          "text": [
            "tokens: ['Tokenization', 'without', 'transformers', 'is', 'straightforward', 'with', 'tools', 'like', 'NLTK', 'in', 'Python', '.']\n",
            "transformwes tokens: {'input_ids': tensor([[  101, 19204,  3989,  2302, 19081,  2003, 19647,  2007,  5906,  2066,\n",
            "         17953,  2102,  2243,   102]]), 'token_type_ids': tensor([[0, 0, 0, 0, 0, 0, 0, 0, 0, 0, 0, 0, 0, 0]]), 'attention_mask': tensor([[1, 1, 1, 1, 1, 1, 1, 1, 1, 1, 1, 1, 1, 1]])}\n",
            "transformers tokens(list): ['[CLS]', 'token', '##ization', 'without', 'transformers', 'is', 'straightforward', 'with', 'tools', 'like', 'nl', '##t', '##k', '[SEP]']\n",
            "decoded text: tokenization without transformers is straightforward with tools like nltk\n"
          ]
        }
      ],
      "source": [
        "import nltk\n",
        "from nltk.tokenize import word_tokenize\n",
        "nltk.download(\"punkt\")\n",
        "nltk.download(\"punkt_tab\") # Download the required resource\n",
        "text = \"Tokenization without transformers is straightforward with tools like NLTK in Python.\"\n",
        "tokens = word_tokenize(text)\n",
        "print(\"tokens:\",tokens)\n",
        "from transformers import AutoTokenizer\n",
        "tokenizer = AutoTokenizer.from_pretrained(\"bert-base-uncased\")\n",
        "text = \"Tokenization without transformers is straightforward with tools like NLTK\"\n",
        "tokens_transformers = tokenizer(text,return_tensors=\"pt\")\n",
        "print(\"transformwes tokens:\",tokens_transformers)\n",
        "tokens_transformers_list= tokenizer.convert_ids_to_tokens(tokens_transformers['input_ids'][0].numpy().tolist())\n",
        "print(\"transformers tokens(list):\",tokens_transformers_list)\n",
        "decoded_text= tokenizer.decode(tokens_transformers['input_ids'][0],skip_special_tokens = True)\n",
        "print(\"decoded text:\",decoded_text)"
      ]
    }
  ]
}